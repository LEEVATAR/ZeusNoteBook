{
 "cells": [
  {
   "cell_type": "code",
   "execution_count": 1,
   "id": "1198591b",
   "metadata": {},
   "outputs": [],
   "source": [
    "import pandas as pd\n",
    "import numpy as np\n",
    "import random\n",
    "import os\n",
    "import gc\n",
    "\n",
    "from catboost import CatBoostClassifier, Pool\n",
    "from sklearn.ensemble import RandomForestClassifier\n",
    "from sklearn.preprocessing import LabelEncoder\n",
    "from sklearn.model_selection import GridSearchCV\n",
    "from sklearn.model_selection import KFold, StratifiedKFold"
   ]
  },
  {
   "cell_type": "code",
   "execution_count": 2,
   "id": "ed825dcc",
   "metadata": {},
   "outputs": [],
   "source": [
    "def seed_everything(seed):\n",
    "    random.seed(seed)\n",
    "    os.environ['PYTHONHASHSEED'] = str(seed)\n",
    "    np.random.seed(seed)\n",
    "seed_everything(42) # Seed 고정"
   ]
  },
  {
   "cell_type": "code",
   "execution_count": 3,
   "id": "56cd0915",
   "metadata": {},
   "outputs": [],
   "source": [
    "def csv_to_parquet(csv_path, save_name):\n",
    "    df = pd.read_csv(csv_path)\n",
    "    df.to_parquet(f'./{save_name}.parquet')\n",
    "    del df\n",
    "    gc.collect()\n",
    "    print(save_name, 'Done.')"
   ]
  },
  {
   "cell_type": "code",
   "execution_count": 4,
   "id": "5e51171f",
   "metadata": {},
   "outputs": [
    {
     "name": "stdout",
     "output_type": "stream",
     "text": [
      "train Done.\n",
      "test Done.\n"
     ]
    }
   ],
   "source": [
    "csv_to_parquet('train.csv', 'train')\n",
    "csv_to_parquet('test.csv', 'test')"
   ]
  },
  {
   "cell_type": "code",
   "execution_count": 5,
   "id": "9a5ccbaf",
   "metadata": {},
   "outputs": [],
   "source": [
    "train = pd.read_parquet('./train.parquet')\n",
    "test = pd.read_parquet('./test.parquet')\n",
    "sample_submission = pd.read_csv('sample_submission.csv', index_col = 0)"
   ]
  },
  {
   "cell_type": "code",
   "execution_count": null,
   "id": "27496f07",
   "metadata": {},
   "outputs": [],
   "source": [
    "#레이블(Delay)을 제외한 결측값이 존재하는 변수들을 학습 데이터의 최빈값으로 대체합니다\n",
    "NaN_col = ['Origin_State','Destination_State','Airline','Estimated_Departure_Time', 'Estimated_Arrival_Time','Carrier_Code(IATA)','Carrier_ID(DOT)']\n",
    "\n",
    "for col in NaN_col:\n",
    "    mode = train[col].mode()[0]\n",
    "    print(\"mode = \", mode)\n",
    "    train[col] = train[col].fillna(mode)\n",
    "    \n",
    "    if col in test.columns:\n",
    "        test[col] = test[col].fillna(mode)\n",
    "print('Done.')"
   ]
  },
  {
   "cell_type": "code",
   "execution_count": null,
   "id": "eeba18eb",
   "metadata": {},
   "outputs": [],
   "source": [
    "#질적 변수들을 수치화합니다\n",
    "qual_col = ['Origin_Airport', 'Origin_State', 'Destination_Airport', 'Destination_State', 'Airline', 'Carrier_Code(IATA)', 'Tail_Number']\n",
    "\n",
    "for i in qual_col:\n",
    "    le = LabelEncoder()\n",
    "    le=le.fit(train[i])\n",
    "    train[i]=le.transform(train[i])\n",
    "    \n",
    "    for label in np.unique(test[i]):\n",
    "        if label not in le.classes_: \n",
    "            le.classes_ = np.append(le.classes_, label)\n",
    "    test[i]=le.transform(test[i])\n",
    "print('Done.')"
   ]
  },
  {
   "cell_type": "code",
   "execution_count": null,
   "id": "bd191ba6",
   "metadata": {},
   "outputs": [],
   "source": [
    "semi_supervise_train = train\n",
    "\n",
    "train_x_labled = semi_supervise_train[semi_supervise_train['Delay'].notnull()].drop(['Delay', 'ID'], axis=1)\n",
    "train_y_labled = pd.Series(semi_supervise_train[semi_supervise_train['Delay'].notnull()]['Delay'])\n",
    "\n",
    "labelEncoder = LabelEncoder()\n",
    "labelEncoder.fit(train_y_labled)\n",
    "train_y_labled = labelEncoder.transform(train_y_labled)\n",
    "\n",
    "train_x_unlabeled = semi_supervise_train[semi_supervise_train['Delay'].isnull()].drop(['Delay', 'ID'], axis=1)\n",
    "\n",
    "\n",
    "model = RandomForestClassifier()\n",
    "\n",
    "model.fit(train_x_labled, train_y_labled)\n"
   ]
  },
  {
   "cell_type": "code",
   "execution_count": null,
   "id": "dcd1869b",
   "metadata": {
    "scrolled": true
   },
   "outputs": [],
   "source": [
    "train_y_unlabeled = model.predict(train_x_unlabeled)"
   ]
  },
  {
   "cell_type": "code",
   "execution_count": null,
   "id": "4166fc95",
   "metadata": {},
   "outputs": [],
   "source": [
    "#0 = Delayed\n",
    "#1 = Not_Delayed\n",
    "#unlabled_y_df = pd.DataFrame(, columns=[\"Delay\"])\n",
    "#unlabled_y_df[\"Delay\"] = np.where(unlabled_y_df[\"Delay\"] == 0, \"Delayed\", \"Not_Delayed\")\n",
    "null_data = train_x_unlabeled\n",
    "\n",
    "null_data['Delay'] = [\"Not_Delayed\" if x == 1 else \"Delayed\" for x in train_y_unlabeled]\n"
   ]
  },
  {
   "cell_type": "code",
   "execution_count": null,
   "id": "1cb42ceb",
   "metadata": {},
   "outputs": [],
   "source": [
    "notnull_data = semi_supervise_train[semi_supervise_train['Delay'].notnull()]"
   ]
  },
  {
   "cell_type": "code",
   "execution_count": null,
   "id": "269611f1",
   "metadata": {},
   "outputs": [],
   "source": [
    "null_data.reset_index(drop=True, inplace=True)\n",
    "notnull_data.reset_index(drop=True, inplace=True)\n",
    "\n",
    "combined_df = pd.concat([null_data, notnull_data], axis=0)"
   ]
  },
  {
   "cell_type": "code",
   "execution_count": null,
   "id": "bca7de8d",
   "metadata": {},
   "outputs": [],
   "source": [
    "combined_df\n",
    "train = combined_df"
   ]
  },
  {
   "cell_type": "code",
   "execution_count": null,
   "id": "c9768d9d",
   "metadata": {},
   "outputs": [],
   "source": [
    "train_x = train.drop(columns=['ID', 'Delay'])\n",
    "train_y = train['Delay']\n",
    "test_x = test.drop(columns=['ID'])"
   ]
  },
  {
   "cell_type": "code",
   "execution_count": null,
   "id": "ddbf60c9",
   "metadata": {},
   "outputs": [],
   "source": [
    "#레이블이 없는 데이터들을 제거합니다\n",
    "train_x = train_x.dropna()"
   ]
  },
  {
   "cell_type": "code",
   "execution_count": null,
   "id": "e6d1326f",
   "metadata": {},
   "outputs": [],
   "source": [
    "column_number = {}\n",
    "for i, column in enumerate(sample_submission.columns):\n",
    "    column_number[column] = i\n",
    "    \n",
    "def to_number(x, dic):\n",
    "    return dic[x]\n",
    "\n",
    "train.loc[:, 'Delay_num'] = train['Delay'].apply(lambda x: to_number(x, column_number))\n",
    "print('Done.')"
   ]
  },
  {
   "cell_type": "code",
   "execution_count": null,
   "id": "ef1a7a8d",
   "metadata": {},
   "outputs": [],
   "source": [
    "n_splits = 6\n",
    "kfold = StratifiedKFold(n_splits=n_splits,shuffle=True,random_state=123)\n",
    "cat_paramets = {\"learning_rate\" : [0.20909079092170735],\n",
    "                'depth' : [8],\n",
    "                'od_pval' : [0.236844398775451],\n",
    "                'model_size_reg': [0.30614059763442997],\n",
    "                'l2_leaf_reg' :[5.535171839105427]}\n",
    "\n",
    "\n",
    "cat = CatBoostClassifier(random_state=123, verbose=False, n_estimators=500)\n",
    "clf = GridSearchCV(cat,cat_paramets,cv=kfold,n_jobs=-1)\n"
   ]
  },
  {
   "cell_type": "code",
   "execution_count": null,
   "id": "c93bc221",
   "metadata": {},
   "outputs": [],
   "source": [
    "clf.fit(train_x, train_y)"
   ]
  },
  {
   "cell_type": "code",
   "execution_count": null,
   "id": "1bd025c4",
   "metadata": {},
   "outputs": [],
   "source": [
    "y_pred = clf.predict_proba(test_x)"
   ]
  },
  {
   "cell_type": "code",
   "execution_count": null,
   "id": "3e0d2136",
   "metadata": {
    "scrolled": true
   },
   "outputs": [],
   "source": [
    "y_pred"
   ]
  },
  {
   "cell_type": "code",
   "execution_count": null,
   "id": "b9ecd807",
   "metadata": {},
   "outputs": [],
   "source": [
    "submission = pd.DataFrame(data=y_pred, columns=sample_submission.columns, index=sample_submission.index)"
   ]
  },
  {
   "cell_type": "code",
   "execution_count": null,
   "id": "bfe7a5fe",
   "metadata": {},
   "outputs": [],
   "source": [
    "submission.to_csv('tea_submission.csv', index=True)"
   ]
  }
 ],
 "metadata": {
  "kernelspec": {
   "display_name": "Python 3",
   "language": "python",
   "name": "python3"
  },
  "language_info": {
   "codemirror_mode": {
    "name": "ipython",
    "version": 3
   },
   "file_extension": ".py",
   "mimetype": "text/x-python",
   "name": "python",
   "nbconvert_exporter": "python",
   "pygments_lexer": "ipython3",
   "version": "3.8.8"
  }
 },
 "nbformat": 4,
 "nbformat_minor": 5
}
