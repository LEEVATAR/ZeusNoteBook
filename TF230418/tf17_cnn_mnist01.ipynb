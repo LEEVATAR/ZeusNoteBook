{
 "cells": [
  {
   "cell_type": "code",
   "execution_count": 8,
   "id": "abb3ef22",
   "metadata": {},
   "outputs": [],
   "source": [
    "import numpy as np\n",
    "from keras.datasets import mnist\n",
    "from keras.models import Sequential\n",
    "from keras.layers import Dense, Flatten "
   ]
  },
  {
   "cell_type": "code",
   "execution_count": 9,
   "id": "08715033",
   "metadata": {},
   "outputs": [],
   "source": [
    "#1. 데이터\n",
    "datasets = mnist\n",
    "(x_train, y_train), (x_test, y_test) = datasets.load_data()"
   ]
  },
  {
   "cell_type": "code",
   "execution_count": 10,
   "id": "c413c8ae",
   "metadata": {},
   "outputs": [
    {
     "name": "stdout",
     "output_type": "stream",
     "text": [
      "(60000, 28, 28) (10000, 28, 28)\n"
     ]
    }
   ],
   "source": [
    "# 데이터 정규화(Nomalization) => 데이터를 0부터 1까지로 정제함\n",
    "x_train = x_train/255.0\n",
    "x_test = x_test/255.0\n",
    "print(x_train.shape, x_test.shape)"
   ]
  },
  {
   "cell_type": "code",
   "execution_count": 11,
   "id": "c7a3f64e",
   "metadata": {},
   "outputs": [],
   "source": [
    "#2. 모델구성\n",
    "model = Sequential()\n",
    "model.add(Flatten())\n",
    "model.add(Dense(100, input_dim=(28, 28)))\n",
    "model.add(Dense(256, activation='relu'))\n",
    "model.add(Dense(10, activation='softmax'))"
   ]
  },
  {
   "cell_type": "code",
   "execution_count": 12,
   "id": "9636b3ec",
   "metadata": {},
   "outputs": [
    {
     "name": "stdout",
     "output_type": "stream",
     "text": [
      "Epoch 1/5\n",
      "1875/1875 [==============================] - 22s 12ms/step - loss: 0.2376 - accuracy: 0.9288\n",
      "Epoch 2/5\n",
      "1875/1875 [==============================] - 13s 7ms/step - loss: 0.1119 - accuracy: 0.9653\n",
      "Epoch 3/5\n",
      "1875/1875 [==============================] - 10s 5ms/step - loss: 0.0824 - accuracy: 0.9744\n",
      "Epoch 4/5\n",
      "1875/1875 [==============================] - 24s 13ms/step - loss: 0.0680 - accuracy: 0.9779\n",
      "Epoch 5/5\n",
      "1875/1875 [==============================] - 12s 6ms/step - loss: 0.0573 - accuracy: 0.9820\n"
     ]
    },
    {
     "data": {
      "text/plain": [
       "<tensorflow.python.keras.callbacks.History at 0x7f7d7c388220>"
      ]
     },
     "execution_count": 12,
     "metadata": {},
     "output_type": "execute_result"
    }
   ],
   "source": [
    "#3.컴파일, 훈련\n",
    "model.compile(loss='sparse_categorical_crossentropy', optimizer='adam',\n",
    "             metrics=['accuracy'])\n",
    "model.fit(x_train, y_train, epochs=5)"
   ]
  },
  {
   "cell_type": "code",
   "execution_count": 13,
   "id": "6e21b23e",
   "metadata": {},
   "outputs": [
    {
     "name": "stdout",
     "output_type": "stream",
     "text": [
      "313/313 [==============================] - 5s 16ms/step - loss: 0.1112 - accuracy: 0.9668\n",
      "loss :  0.11118756234645844\n",
      "정확도 :  0.9667999744415283\n"
     ]
    }
   ],
   "source": [
    "#4.평가, 예측\n",
    "loss, acc = model.evaluate(x_test, y_test)\n",
    "print('loss : ', loss)\n",
    "print('정확도 : ', acc)"
   ]
  },
  {
   "cell_type": "code",
   "execution_count": 16,
   "id": "327fc76a",
   "metadata": {},
   "outputs": [
    {
     "name": "stdout",
     "output_type": "stream",
     "text": [
      "[5.4935584e-11 4.5894142e-09 1.6317311e-07 2.2915822e-04 6.8599732e-16\n",
      " 4.7311641e-08 2.0734174e-14 9.9977010e-01 2.1246072e-07 3.3756800e-07]\n",
      "7\n",
      "[5.9722146e-07 4.3824794e-10 4.3014707e-06 3.2870648e-08 9.9852151e-01\n",
      " 2.0619872e-10 9.5550959e-08 1.3307075e-04 7.0827269e-08 1.3402917e-03]\n",
      "4\n"
     ]
    }
   ],
   "source": [
    "y_predict = model.predict(x_test)\n",
    "print(y_predict[0])\n",
    "print(np.argmax(y_predict[0]))\n",
    "\n",
    "print(y_predict[4])\n",
    "print(np.argmax(y_predict[4]))"
   ]
  }
 ],
 "metadata": {
  "kernelspec": {
   "display_name": "Python 3",
   "language": "python",
   "name": "python3"
  },
  "language_info": {
   "codemirror_mode": {
    "name": "ipython",
    "version": 3
   },
   "file_extension": ".py",
   "mimetype": "text/x-python",
   "name": "python",
   "nbconvert_exporter": "python",
   "pygments_lexer": "ipython3",
   "version": "3.8.8"
  }
 },
 "nbformat": 4,
 "nbformat_minor": 5
}
