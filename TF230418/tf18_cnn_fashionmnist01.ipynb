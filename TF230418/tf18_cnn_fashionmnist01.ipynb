{
 "cells": [
  {
   "cell_type": "code",
   "execution_count": 1,
   "id": "3a0bed0a",
   "metadata": {},
   "outputs": [
    {
     "ename": "ImportError",
     "evalue": "cannot import name 'accuracy_score' from 'keras.metrics' (/opt/conda/lib/python3.8/site-packages/keras/metrics.py)",
     "output_type": "error",
     "traceback": [
      "\u001b[0;31m---------------------------------------------------------------------------\u001b[0m",
      "\u001b[0;31mImportError\u001b[0m                               Traceback (most recent call last)",
      "\u001b[0;32m<ipython-input-1-b9df9a6038f7>\u001b[0m in \u001b[0;36m<module>\u001b[0;34m\u001b[0m\n\u001b[1;32m      3\u001b[0m \u001b[0;32mfrom\u001b[0m \u001b[0mkeras\u001b[0m\u001b[0;34m.\u001b[0m\u001b[0mmodels\u001b[0m \u001b[0;32mimport\u001b[0m \u001b[0mSequential\u001b[0m\u001b[0;34m\u001b[0m\u001b[0;34m\u001b[0m\u001b[0m\n\u001b[1;32m      4\u001b[0m \u001b[0;32mfrom\u001b[0m \u001b[0mkeras\u001b[0m\u001b[0;34m.\u001b[0m\u001b[0mlayers\u001b[0m \u001b[0;32mimport\u001b[0m \u001b[0mDense\u001b[0m\u001b[0;34m,\u001b[0m \u001b[0mFlatten\u001b[0m\u001b[0;34m,\u001b[0m \u001b[0mConv2D\u001b[0m\u001b[0;34m\u001b[0m\u001b[0;34m\u001b[0m\u001b[0m\n\u001b[0;32m----> 5\u001b[0;31m \u001b[0;32mfrom\u001b[0m \u001b[0mkeras\u001b[0m\u001b[0;34m.\u001b[0m\u001b[0mmetrics\u001b[0m \u001b[0;32mimport\u001b[0m \u001b[0maccuracy_score\u001b[0m\u001b[0;34m\u001b[0m\u001b[0;34m\u001b[0m\u001b[0m\n\u001b[0m",
      "\u001b[0;31mImportError\u001b[0m: cannot import name 'accuracy_score' from 'keras.metrics' (/opt/conda/lib/python3.8/site-packages/keras/metrics.py)"
     ]
    }
   ],
   "source": [
    "import numpy as np\n",
    "from keras.datasets import fashion_mnist\n",
    "from keras.models import Sequential\n",
    "from keras.layers import Dense, Flatten, Conv2D\n",
    "from keras.metrics import accuracy_score"
   ]
  },
  {
   "cell_type": "code",
   "execution_count": null,
   "id": "bedab2bf",
   "metadata": {},
   "outputs": [],
   "source": [
    "#1. 데이터\n",
    "datasets = fashion_mnist\n",
    "(x_train, y_train), (x_test, y_test) = datasets.load_data()"
   ]
  },
  {
   "cell_type": "code",
   "execution_count": null,
   "id": "9a745d7c",
   "metadata": {},
   "outputs": [],
   "source": [
    "# 데이터 정규화\n",
    "x_train, x_test = x_train/255.0, x_test/255.0\n",
    "\n",
    "print(x_train.shape, x_test.shape)"
   ]
  },
  {
   "cell_type": "code",
   "execution_count": null,
   "id": "f93fd3e8",
   "metadata": {},
   "outputs": [],
   "source": [
    "x_train = x_train.reshape(60000, 28, 28,1)\n",
    "x_test = x_test.reshape(10000, 28, 28,1)"
   ]
  },
  {
   "cell_type": "code",
   "execution_count": null,
   "id": "0b9b82e5",
   "metadata": {},
   "outputs": [],
   "source": [
    "#2. 모델구성\n",
    "model = Sequential()\n",
    "model.add(Conv2D(filters=64, kernel_size=(3,3), padding='same',\n",
    "                 activation='relu', input_shape=(28,28,1)))\n",
    "model.add(Conv2D(128, (3,3), padding='same', activation='relu'))\n",
    "model.add(Conv2D(256, (3,3), padding='same', activation='relu'))\n",
    "model.add(Conv2D(64, (3,3), padding='same', activation='relu'))\n",
    "model.add(Flatten())\n",
    "model.add(Dense(256, input_dim=(28, 28)))\n",
    "model.add(Dense(512, activation='relu'))\n",
    "model.add(Dense(10, activation='softmax'))"
   ]
  },
  {
   "cell_type": "code",
   "execution_count": null,
   "id": "9a85da94",
   "metadata": {},
   "outputs": [],
   "source": [
    "#3. 컴파일, 훈련\n",
    "model.compile(loss='sparse_categorical_crossentropy', optimizer='adam',\n",
    "             metrics=['accuracy'])"
   ]
  },
  {
   "cell_type": "code",
   "execution_count": 13,
   "id": "722fa020",
   "metadata": {},
   "outputs": [
    {
     "name": "stdout",
     "output_type": "stream",
     "text": [
      "Epoch 1/5\n",
      "1500/1500 [==============================] - 5s 4ms/step - loss: 0.3687 - accuracy: 0.8651 - val_loss: 0.3730 - val_accuracy: 0.8632\n",
      "Epoch 2/5\n",
      "1500/1500 [==============================] - 5s 3ms/step - loss: 0.3558 - accuracy: 0.8693 - val_loss: 0.3716 - val_accuracy: 0.8612\n",
      "Epoch 3/5\n",
      "1500/1500 [==============================] - 5s 4ms/step - loss: 0.3452 - accuracy: 0.8726 - val_loss: 0.3569 - val_accuracy: 0.8709\n",
      "Epoch 4/5\n",
      "1500/1500 [==============================] - 13s 8ms/step - loss: 0.3338 - accuracy: 0.8769 - val_loss: 0.3522 - val_accuracy: 0.8717\n",
      "Epoch 5/5\n",
      "1500/1500 [==============================] - 13s 9ms/step - loss: 0.3260 - accuracy: 0.8805 - val_loss: 0.3469 - val_accuracy: 0.8732\n",
      "걸린시간 :  41.58567476272583\n"
     ]
    }
   ],
   "source": [
    "import time \n",
    "from keras.callbacks import EarlyStopping\n",
    "\n",
    "earlyStopping = EarlyStopping(monitor='val_loss', patience=2, mode='min', \n",
    "                              restore_best_weights=True, verbose=1)\n",
    "\n",
    "start_time = time.time()\n",
    "model.fit(x_train, y_train, validation_split=0.2, \n",
    "          callbacks=[earlyStopping],\n",
    "          epochs=2)\n",
    "end_time = time.time() -start_time\n",
    "print('걸린시간 : ', end_time) # 41.58567476272583"
   ]
  },
  {
   "cell_type": "code",
   "execution_count": 15,
   "id": "dbe2fe5a",
   "metadata": {},
   "outputs": [
    {
     "name": "stdout",
     "output_type": "stream",
     "text": [
      "313/313 [==============================] - 1s 2ms/step - loss: 0.3756 - accuracy: 0.8660\n",
      "loss :  0.3756372630596161\n",
      "acc :  0.8659999966621399\n"
     ]
    }
   ],
   "source": [
    "# 평가, 예측\n",
    "loss, acc = model.evaluate(x_test, y_test)\n",
    "print('loss : ', loss) # loss :  0.3756372630596161\n",
    "print('acc : ', acc)   # acc :  0.8659999966621399"
   ]
  },
  {
   "cell_type": "code",
   "execution_count": 17,
   "id": "9eb2251b",
   "metadata": {},
   "outputs": [
    {
     "name": "stdout",
     "output_type": "stream",
     "text": [
      "[3.0809673e-07 9.9374336e-07 9.0857377e-08 1.5712326e-06 4.0988795e-07\n",
      " 2.6980005e-02 2.6421989e-07 5.7157755e-02 5.2406274e-05 9.1580617e-01]\n",
      "9\n",
      "[2.1319168e-04 2.1102046e-06 1.5936804e-01 1.1393293e-05 8.1065822e-01\n",
      " 3.9298573e-08 2.9744549e-02 1.5722074e-12 2.3668963e-06 3.6844752e-10]\n",
      "4\n"
     ]
    }
   ],
   "source": [
    "y_predict = model.predict(x_test)\n",
    "print(y_predict[0])\n",
    "print(np.argmax(y_predict[0]))\n",
    "\n",
    "print(y_predict[10])\n",
    "print(np.argmax(y_predict[10]))"
   ]
  },
  {
   "cell_type": "code",
   "execution_count": 21,
   "id": "70506fd7",
   "metadata": {},
   "outputs": [
    {
     "name": "stdout",
     "output_type": "stream",
     "text": [
      "정확도 :  0.866\n"
     ]
    }
   ],
   "source": [
    "from sklearn.metrics import accuracy_score\n",
    "\n",
    "y_predict = y_predict.argmax(axis=1)\n",
    "acc = accuracy_score(y_test, y_predict)\n",
    "print('정확도 : ', acc)"
   ]
  }
 ],
 "metadata": {
  "kernelspec": {
   "display_name": "Python 3",
   "language": "python",
   "name": "python3"
  },
  "language_info": {
   "codemirror_mode": {
    "name": "ipython",
    "version": 3
   },
   "file_extension": ".py",
   "mimetype": "text/x-python",
   "name": "python",
   "nbconvert_exporter": "python",
   "pygments_lexer": "ipython3",
   "version": "3.8.8"
  }
 },
 "nbformat": 4,
 "nbformat_minor": 5
}
