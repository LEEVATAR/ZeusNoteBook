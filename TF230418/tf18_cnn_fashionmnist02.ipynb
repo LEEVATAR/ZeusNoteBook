{
 "cells": [
  {
   "cell_type": "code",
   "execution_count": 3,
   "id": "3a0bed0a",
   "metadata": {},
   "outputs": [],
   "source": [
    "import numpy as np\n",
    "from keras.datasets import fashion_mnist\n",
    "from keras.models import Sequential\n",
    "from keras.layers import Dense, Flatten, Conv2D, MaxPooling2D, Dropout\n",
    "# from keras.metrics import accuracy_score"
   ]
  },
  {
   "cell_type": "code",
   "execution_count": 4,
   "id": "bedab2bf",
   "metadata": {},
   "outputs": [],
   "source": [
    "#1. 데이터\n",
    "datasets = fashion_mnist\n",
    "(x_train, y_train), (x_test, y_test) = datasets.load_data()"
   ]
  },
  {
   "cell_type": "code",
   "execution_count": 5,
   "id": "9a745d7c",
   "metadata": {},
   "outputs": [
    {
     "name": "stdout",
     "output_type": "stream",
     "text": [
      "(60000, 28, 28) (10000, 28, 28)\n"
     ]
    }
   ],
   "source": [
    "# 데이터 정규화\n",
    "x_train, x_test = x_train/255.0, x_test/255.0\n",
    "\n",
    "print(x_train.shape, x_test.shape)"
   ]
  },
  {
   "cell_type": "code",
   "execution_count": 6,
   "id": "3f427cce",
   "metadata": {},
   "outputs": [],
   "source": [
    "x_train = x_train.reshape(60000, 28, 28,1)\n",
    "x_test = x_test.reshape(10000, 28, 28,1)"
   ]
  },
  {
   "cell_type": "code",
   "execution_count": 7,
   "id": "0b9b82e5",
   "metadata": {},
   "outputs": [],
   "source": [
    "#2. 모델구성\n",
    "model = Sequential()\n",
    "model.add(Conv2D(filters=64, kernel_size=(3,3), padding='same',\n",
    "                 activation='relu', input_shape=(28,28,1)))\n",
    "model.add(MaxPooling2D(4,4))\n",
    "model.add(Dropout(0.4))\n",
    "model.add(Conv2D(256, (3,3), padding='same', activation='relu'))\n",
    "model.add(MaxPooling2D(4,4))\n",
    "model.add(Dropout(0.25))\n",
    "model.add(Conv2D(64, (3,3), padding='same', activation='relu'))\n",
    "model.add(Dropout(0.25))\n",
    "model.add(Flatten())\n",
    "model.add(Dense(256, input_dim=(28, 28)))\n",
    "model.add(Dense(512, activation='relu'))\n",
    "model.add(Dense(10, activation='softmax'))"
   ]
  },
  {
   "cell_type": "code",
   "execution_count": 8,
   "id": "9a85da94",
   "metadata": {},
   "outputs": [],
   "source": [
    "#3. 컴파일, 훈련\n",
    "model.compile(loss='sparse_categorical_crossentropy', optimizer='adam',\n",
    "             metrics=['accuracy'])"
   ]
  },
  {
   "cell_type": "code",
   "execution_count": 9,
   "id": "722fa020",
   "metadata": {},
   "outputs": [
    {
     "name": "stdout",
     "output_type": "stream",
     "text": [
      "Epoch 1/2\n",
      "1500/1500 [==============================] - 48s 32ms/step - loss: 0.8189 - accuracy: 0.6889 - val_loss: 0.5838 - val_accuracy: 0.7827\n",
      "Epoch 2/2\n",
      "1500/1500 [==============================] - 47s 31ms/step - loss: 0.5822 - accuracy: 0.7854 - val_loss: 0.4646 - val_accuracy: 0.8227\n",
      "걸린시간 :  96.05784678459167\n"
     ]
    }
   ],
   "source": [
    "import time \n",
    "from keras.callbacks import EarlyStopping\n",
    "\n",
    "earlyStopping = EarlyStopping(monitor='val_loss', patience=2, mode='min', \n",
    "                              restore_best_weights=True, verbose=1)\n",
    "\n",
    "start_time = time.time()\n",
    "model.fit(x_train, y_train, validation_split=0.2, \n",
    "          callbacks=[earlyStopping],\n",
    "          epochs=2)\n",
    "end_time = time.time() -start_time\n",
    "print('걸린시간 : ', end_time) # 41.58567476272583"
   ]
  },
  {
   "cell_type": "code",
   "execution_count": 10,
   "id": "dbe2fe5a",
   "metadata": {},
   "outputs": [
    {
     "name": "stdout",
     "output_type": "stream",
     "text": [
      "313/313 [==============================] - 3s 11ms/step - loss: 0.4866 - accuracy: 0.8169\n",
      "loss :  0.4865838289260864\n",
      "acc :  0.8169000148773193\n"
     ]
    }
   ],
   "source": [
    "# 평가, 예측\n",
    "loss, acc = model.evaluate(x_test, y_test)\n",
    "print('loss : ', loss) # loss :  0.3756372630596161 => loss :  0.4865838289260864\n",
    "print('acc : ', acc)   # acc :  0.8659999966621399 => acc :  0.8169000148773193    "
   ]
  },
  {
   "cell_type": "code",
   "execution_count": 17,
   "id": "9eb2251b",
   "metadata": {},
   "outputs": [
    {
     "name": "stdout",
     "output_type": "stream",
     "text": [
      "[3.0809673e-07 9.9374336e-07 9.0857377e-08 1.5712326e-06 4.0988795e-07\n",
      " 2.6980005e-02 2.6421989e-07 5.7157755e-02 5.2406274e-05 9.1580617e-01]\n",
      "9\n",
      "[2.1319168e-04 2.1102046e-06 1.5936804e-01 1.1393293e-05 8.1065822e-01\n",
      " 3.9298573e-08 2.9744549e-02 1.5722074e-12 2.3668963e-06 3.6844752e-10]\n",
      "4\n"
     ]
    }
   ],
   "source": [
    "y_predict = model.predict(x_test)\n",
    "print(y_predict[0])\n",
    "print(np.argmax(y_predict[0]))\n",
    "\n",
    "print(y_predict[10])\n",
    "print(np.argmax(y_predict[10]))"
   ]
  },
  {
   "cell_type": "code",
   "execution_count": 21,
   "id": "70506fd7",
   "metadata": {},
   "outputs": [
    {
     "name": "stdout",
     "output_type": "stream",
     "text": [
      "정확도 :  0.866\n"
     ]
    }
   ],
   "source": [
    "from sklearn.metrics import accuracy_score\n",
    "\n",
    "y_predict = y_predict.argmax(axis=1)\n",
    "acc = accuracy_score(y_test, y_predict)\n",
    "print('정확도 : ', acc)"
   ]
  }
 ],
 "metadata": {
  "kernelspec": {
   "display_name": "Python 3",
   "language": "python",
   "name": "python3"
  },
  "language_info": {
   "codemirror_mode": {
    "name": "ipython",
    "version": 3
   },
   "file_extension": ".py",
   "mimetype": "text/x-python",
   "name": "python",
   "nbconvert_exporter": "python",
   "pygments_lexer": "ipython3",
   "version": "3.8.8"
  }
 },
 "nbformat": 4,
 "nbformat_minor": 5
}
