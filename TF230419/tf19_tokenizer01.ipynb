{
 "cells": [
  {
   "cell_type": "code",
   "execution_count": null,
   "id": "a283e588",
   "metadata": {},
   "outputs": [],
   "source": [
    "from keras.preprocessing.text import Tokenizer\n",
    "\n",
    "text = '나는 인공지능이 진짜 매우 매우 정말 재미있어서 시간이 엄청 엄청 매우 잘 간다'\n",
    "\n",
    "token = Tokenizer()\n",
    "token.fit_on_texts([text])  # fit하면서 index가 생성됨\n",
    "\n",
    "print(token.word_index) # 빈도가 높은 index가 앞에 프린트되고 다음 순서대로 프린트 됨\n",
    "\n",
    "x = token.texts_to_sequences([text])\n",
    "print(x)\n",
    "\n",
    "from tensorflow.python.keras.utils.np_utils import to_categorical\n",
    "\n",
    "x = to_categorical(x)\n",
    "print(x)\n",
    "print(x.shape)"
   ]
  }
 ],
 "metadata": {
  "kernelspec": {
   "display_name": "Python 3",
   "language": "python",
   "name": "python3"
  },
  "language_info": {
   "codemirror_mode": {
    "name": "ipython",
    "version": 3
   },
   "file_extension": ".py",
   "mimetype": "text/x-python",
   "name": "python",
   "nbconvert_exporter": "python",
   "pygments_lexer": "ipython3",
   "version": "3.8.8"
  }
 },
 "nbformat": 4,
 "nbformat_minor": 5
}
