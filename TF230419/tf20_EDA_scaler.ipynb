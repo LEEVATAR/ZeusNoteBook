{
 "cells": [
  {
   "cell_type": "code",
   "execution_count": null,
   "id": "19251f60",
   "metadata": {},
   "outputs": [],
   "source": [
    "import numpy as np\n",
    "from sklearn.datasets import load_boston\n",
    "from sklearn.model_selection import train_test_split\n",
    "from sklearn.preprocessing import MinMaxScaler, StandardScaler\n",
    "from sklearn.preprocessing import MaxAbsScaler, RobustScaler\n",
    "from keras.models import Sequential\n",
    "from keras.layers import Dense\n",
    "from keras.callbacks import EarlyStopping\n",
    "from sklearn.metrics import r2_score\n",
    "import time\n",
    "\n",
    "\n",
    "#1. 데이터\n",
    "datasets = load_boston()\n",
    "x = datasets.data\n",
    "y = datasets['target']\n",
    "\n",
    "x_train, x_test, y_train, y_test = train_test_split(\n",
    "    x, y, train_size=0.7, random_state=66\n",
    ")\n",
    "\n",
    "#  데이터 스케일 조정\n",
    "scaler = MinMaxScaler()     # 데이터의 최소값과 최대값을 이용하여 0과 1 사이의 범위로 스케일링\n",
    "\n",
    "# scaler = StandardScaler() # 데이터의 평균과 표준편차를 이용하여 평균이 0, 분산이 1인 표준정규분포로 스케일링\n",
    "# scaler = MaxAbsScaler()   # 데이터의 절대값 중 최대값으로 나누어 스케일링\n",
    "# scaler = RobustScaler()   # 중앙값(median)과 사분위 범위(Interquartile Range, IQR)를 사용\n",
    "\n",
    "# scaler.fit(x_train)\n",
    "# x_train = scaler.transform(x_train)\n",
    "# x_test = scaler.transform(x_test)\n",
    "\n",
    "x_train = scaler.fit_transform(x_train) # scaler.fit(x_train)\n",
    "                                        # x_train = scaler.transform(x_train) 두 줄을 한 줄로 사용\n",
    "x_test = scaler.transform(x_test)"
   ]
  },
  {
   "cell_type": "markdown",
   "id": "1859b6a3",
   "metadata": {},
   "source": [
    "### 보스턴에 대해서 3가지 비교\n",
    "1. 스케일러 하기 전\n",
    "2. MinMaxScaler()\n",
    "3. StandardScaler() => 3가지 성능 비교"
   ]
  }
 ],
 "metadata": {
  "kernelspec": {
   "display_name": "Python 3",
   "language": "python",
   "name": "python3"
  },
  "language_info": {
   "codemirror_mode": {
    "name": "ipython",
    "version": 3
   },
   "file_extension": ".py",
   "mimetype": "text/x-python",
   "name": "python",
   "nbconvert_exporter": "python",
   "pygments_lexer": "ipython3",
   "version": "3.8.8"
  }
 },
 "nbformat": 4,
 "nbformat_minor": 5
}
