{
 "cells": [
  {
   "cell_type": "code",
   "execution_count": 1,
   "id": "1f43c97e",
   "metadata": {},
   "outputs": [],
   "source": [
    "import numpy as np\n",
    "import pandas as pd\n",
    "from keras.models import Sequential\n",
    "from keras.layers import Dense\n",
    "from sklearn.model_selection import train_test_split\n",
    "from sklearn.metrics import r2_score"
   ]
  },
  {
   "cell_type": "code",
   "execution_count": null,
   "id": "b8ac1617",
   "metadata": {},
   "outputs": [],
   "source": [
    "#1. 데이터\n",
    "path = './Data/boston/'\n",
    "train_set = pd.read_csv(path + 'train_set.csv', index_col=0)\n",
    "test_set = pd.read_csv(path + 'test-set.csv', index_col=0)\n",
    "\n",
    "print(train_set.shape)\n",
    "print(train_set.columns)\n",
    "print(train_set.info())\n",
    "print(train_set.describe())"
   ]
  },
  {
   "cell_type": "code",
   "execution_count": 3,
   "id": "23aee4d6",
   "metadata": {},
   "outputs": [],
   "source": [
    "#2. 모델구성"
   ]
  },
  {
   "cell_type": "code",
   "execution_count": null,
   "id": "3f5a5284",
   "metadata": {},
   "outputs": [],
   "source": [
    "#3. 컴파일, 훈련"
   ]
  },
  {
   "cell_type": "code",
   "execution_count": null,
   "id": "44abe3ff",
   "metadata": {},
   "outputs": [],
   "source": [
    "#4. 평가,예측\n",
    "loss = model.evaluate(x_test, y_test)\n",
    "y_predict = model.predict(x_test)\n",
    "print(y_predict)\n",
    "\n",
    "r2 = r2_score(y_test, y_predict)\n",
    "print('loss : ', loss)\n",
    "print('r2 : ', r2)"
   ]
  },
  {
   "cell_type": "code",
   "execution_count": null,
   "id": "8c2b4359",
   "metadata": {},
   "outputs": [],
   "source": [
    "#========================= submssion ========================== #\n",
    "y_summit = model.predict(test_set)\n",
    "print(y_summit)\n",
    "print(y_summit.shape)   # (715, 1)\n",
    "\n",
    "submission = pd.read_csv('submission 파일위치')\n",
    "submission['y컬럼명'] = y_summit\n",
    "submission.to_csv(path + '파일이름.csv', index=False)"
   ]
  }
 ],
 "metadata": {
  "kernelspec": {
   "display_name": "Python 3",
   "language": "python",
   "name": "python3"
  },
  "language_info": {
   "codemirror_mode": {
    "name": "ipython",
    "version": 3
   },
   "file_extension": ".py",
   "mimetype": "text/x-python",
   "name": "python",
   "nbconvert_exporter": "python",
   "pygments_lexer": "ipython3",
   "version": "3.8.8"
  }
 },
 "nbformat": 4,
 "nbformat_minor": 5
}
