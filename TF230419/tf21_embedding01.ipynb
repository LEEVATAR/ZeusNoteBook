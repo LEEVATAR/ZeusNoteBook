{
 "cells": [
  {
   "cell_type": "code",
   "execution_count": null,
   "id": "2144a902",
   "metadata": {},
   "outputs": [],
   "source": [
    "from keras.preprocessing.text import Tokenizer\n",
    "import numpy as np\n",
    "import tensorflow as tf\n",
    "print(tf.__version__)   # 2.2.0\n",
    "\n",
    "#1. 데이터\n",
    "docs = ['너무 재밌어요', '참 최고에요', '참 잘 만든 영화에요',\n",
    "        '추천하고 싶은 영화입니다', '한 번 더 보고 싶네요', '글쎄요',\n",
    "        '별로에요', '생각보다 지루해요', '연기가 어색해요',\n",
    "        '재미없어요', '너무 재미없다', '참 재밌네요', \n",
    "        '배우가 잘 생기긴 했어요', '다시 보고 싶어요']\n",
    "\n",
    "# 긍정 1, 부정 0\n",
    "labels = np.array([1,1,1,1,1,0,0,0,0,0,0,1,1,0])    \n",
    "\n",
    "token = Tokenizer()\n",
    "token.fit_on_texts(docs)\n",
    "print(token.word_index)"
   ]
  },
  {
   "cell_type": "code",
   "execution_count": null,
   "id": "63e48392",
   "metadata": {},
   "outputs": [],
   "source": [
    "x = token.texts_to_sequences(docs)\n",
    "print(x)"
   ]
  },
  {
   "cell_type": "code",
   "execution_count": null,
   "id": "7ad58f86",
   "metadata": {},
   "outputs": [],
   "source": [
    "from keras_preprocessing.sequence import pad_sequences\n",
    "\n",
    "pad_x = pad_sequences(x, padding='pre', maxlen=5)\n",
    "print(pad_x)\n",
    "print(pad_x.shape)  #(14, 5)\n",
    "\n",
    "word_size = len(token.word_index)\n",
    "print(\"word_size :\", word_size) #단어사전의 갯수 : 29\n",
    "\n",
    "print(np.unique(pad_x, return_counts=True))"
   ]
  },
  {
   "cell_type": "code",
   "execution_count": 4,
   "id": "4b500f59",
   "metadata": {},
   "outputs": [],
   "source": [
    "# pip install numpy==1.19.5  \n",
    "\n",
    "# LSTM error 발생(Sequential()과 호환안됨)으로 \n",
    "# numpy 버전을 1.2*버전에서 1.19.5버전으로 다운그레이드 하였음"
   ]
  },
  {
   "cell_type": "code",
   "execution_count": null,
   "id": "3a74bb0f",
   "metadata": {},
   "outputs": [],
   "source": [
    "#2. 모델\n",
    "from keras.models import Sequential\n",
    "from keras.layers import Dense, LSTM, Embedding\n",
    "\n",
    "model = Sequential()\n",
    "model.add(Embedding(30, 10, input_length=5))    #Input_lengh는 명시해주어야 함\n",
    "model.add(LSTM(32))\n",
    "model.add(Dense(1, activation='sigmoid'))\n",
    "\n",
    "model.summary()"
   ]
  },
  {
   "cell_type": "code",
   "execution_count": null,
   "id": "340aed28",
   "metadata": {},
   "outputs": [],
   "source": [
    "#3. 컴파일, 훈련\n",
    "model.compile(loss='binary_crossentropy', optimizer='adam', metrics=['acc'])\n",
    "model.fit(pad_x, labels, epochs=20, batch_size=16)"
   ]
  },
  {
   "cell_type": "code",
   "execution_count": null,
   "id": "f738af5b",
   "metadata": {},
   "outputs": [],
   "source": [
    "#4. 평가, 예측\n",
    "acc = model.evaluate(pad_x, labels)[1]  # [0]이면 loss, [1]이면 accuracy \n",
    "print('acc : ', acc)"
   ]
  }
 ],
 "metadata": {
  "kernelspec": {
   "display_name": "Python 3",
   "language": "python",
   "name": "python3"
  },
  "language_info": {
   "codemirror_mode": {
    "name": "ipython",
    "version": 3
   },
   "file_extension": ".py",
   "mimetype": "text/x-python",
   "name": "python",
   "nbconvert_exporter": "python",
   "pygments_lexer": "ipython3",
   "version": "3.8.8"
  }
 },
 "nbformat": 4,
 "nbformat_minor": 5
}
