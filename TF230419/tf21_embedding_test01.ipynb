{
 "cells": [
  {
   "cell_type": "markdown",
   "id": "ff0d6dd1",
   "metadata": {},
   "source": [
    "\n",
    "# 실습\n",
    "### 텍스트의 결과가 긍정인지 부정인지 출력하기\n"
   ]
  },
  {
   "cell_type": "code",
   "execution_count": 8,
   "id": "35dd2876",
   "metadata": {},
   "outputs": [],
   "source": [
    "x_predict = '글쎄요 나는 별로였어요 지루하고 재미없어요'\n",
    "\n",
    "# 결과는??? 긍정??? 부정???"
   ]
  },
  {
   "cell_type": "code",
   "execution_count": null,
   "id": "42319527",
   "metadata": {},
   "outputs": [],
   "source": [
    "#리스트로 만들기\n",
    "x_predict = np.array([x_predict])\n",
    "print(x_predict)"
   ]
  },
  {
   "cell_type": "code",
   "execution_count": null,
   "id": "2f696b3e",
   "metadata": {},
   "outputs": [],
   "source": [
    "token = Tokenizer()\n",
    "token.fit_on_texts(x_predict)   \n",
    "print(token.word_index)\n",
    "\n",
    "x_pred = token.texts_to_sequences(x_predict)   # 정수 인코딩\n",
    "print(x_pred)"
   ]
  },
  {
   "cell_type": "code",
   "execution_count": null,
   "id": "f57b9040",
   "metadata": {},
   "outputs": [],
   "source": [
    "x_pred1 = pad_sequences(x_pred, padding='pre') \n",
    "y_pred = model.predict(x_pred1)\n",
    "print(y_pred)\n",
    "score = float(model.predict(x_pred1))\n",
    "print(score)"
   ]
  },
  {
   "cell_type": "code",
   "execution_count": null,
   "id": "fea02415",
   "metadata": {},
   "outputs": [],
   "source": [
    "if score < 0.5 :\n",
    "    print(\"긍정\")\n",
    "else :\n",
    "    print(\"부정\")"
   ]
  }
 ],
 "metadata": {
  "kernelspec": {
   "display_name": "Python 3",
   "language": "python",
   "name": "python3"
  },
  "language_info": {
   "codemirror_mode": {
    "name": "ipython",
    "version": 3
   },
   "file_extension": ".py",
   "mimetype": "text/x-python",
   "name": "python",
   "nbconvert_exporter": "python",
   "pygments_lexer": "ipython3",
   "version": "3.8.8"
  }
 },
 "nbformat": 4,
 "nbformat_minor": 5
}
