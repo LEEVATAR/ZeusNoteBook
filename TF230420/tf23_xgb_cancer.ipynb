{
 "cells": [
  {
   "cell_type": "code",
   "execution_count": null,
   "id": "f8b7d755",
   "metadata": {},
   "outputs": [],
   "source": [
    "from sklearn.datasets import load_breast_cancer\n",
    "from sklearn.model_selection import train_test_split\n",
    "from sklearn.preprocessing import StandardScaler, MinMaxScaler\n",
    "from xgboost import XGBClassifier, XGBRegressor\n",
    "import time\n",
    "from sklearn.metrics import accuracy_score, r2_score\n",
    "\n",
    "#1. 데이터\n",
    "datasets = load_breast_cancer()\n",
    "x = datasets.data\n",
    "y = datasets.target\n",
    "print(x.shape, y.shape) # (569, 30) (569,)\n",
    "\n",
    "x_train, x_test, y_train, y_test = train_test_split(\n",
    "    x, y, shuffle=True, random_state=72, train_size=0.8, stratify=y\n",
    ")\n",
    "\n",
    "parameters = {'n_estimators': [100],\n",
    "              'learning_rate' : [0.1],\n",
    "              'max_depth' : [3], \n",
    "              'gamma': [1],\n",
    "              'min_child_weight': [1],\n",
    "              'subsample' : [1],\n",
    "              'colsample_bytree' : [1],\n",
    "              'colsample_bylevel' : [1],\n",
    "              'colsample_bynode' : [1],\n",
    "              'reg_alpha' : [0],\n",
    "              'reg_lambda' : [1]\n",
    "              }  \n",
    "\n",
    "#2. 모델\n",
    "model = XGBClassifier(random_state=72, \n",
    "                      n_estimators=1000, \n",
    "                      learning_rate = 0.1,\n",
    "                      max_depth = 6, \n",
    "                      gamma= 1,\n",
    "                    )\n",
    "\n",
    "#3. 훈련\n",
    "model.fit(x_train, y_train, early_stopping_rounds=200,\n",
    "          eval_set = [(x_train, y_train), (x_test, y_test)],\n",
    "          eval_metric='error',\n",
    "          )\n",
    "\n",
    "\n",
    "#4. 평가, 예측\n",
    "result = model.score(x_test, y_test)    \n",
    "print('acc : ', result)\n",
    "\n",
    "y_predict = model.predict(x_test)\n",
    "acc = accuracy_score(y_test, y_predict)\n",
    "print(\"진짜 최종 test 점수 : \", acc)"
   ]
  }
 ],
 "metadata": {
  "kernelspec": {
   "display_name": "Python 3",
   "language": "python",
   "name": "python3"
  },
  "language_info": {
   "codemirror_mode": {
    "name": "ipython",
    "version": 3
   },
   "file_extension": ".py",
   "mimetype": "text/x-python",
   "name": "python",
   "nbconvert_exporter": "python",
   "pygments_lexer": "ipython3",
   "version": "3.8.8"
  }
 },
 "nbformat": 4,
 "nbformat_minor": 5
}
