{
 "cells": [
  {
   "cell_type": "code",
   "execution_count": 2,
   "id": "91067bb0",
   "metadata": {},
   "outputs": [],
   "source": [
    "import numpy as np\n",
    "import pandas as pd\n",
    "from keras.models import Sequential\n",
    "from keras.layers import Dense\n",
    "from sklearn.model_selection import train_test_split\n",
    "from sklearn.metrics import r2_score"
   ]
  },
  {
   "cell_type": "code",
   "execution_count": 6,
   "id": "3fa88f63",
   "metadata": {},
   "outputs": [
    {
     "name": "stdout",
     "output_type": "stream",
     "text": [
      "Index(['AGE', 'B', 'RM', 'CRIM', 'DIS', 'INDUS', 'LSTAT', 'NOX', 'PTRATIO',\n",
      "       'RAD', 'ZN', 'TAX', 'CHAS', 'Target'],\n",
      "      dtype='object')\n",
      "    AGE       B     RM     CRIM     DIS  INDUS  LSTAT    NOX  PTRATIO  RAD  \\\n",
      "0  65.2  396.90  6.575  0.00632  4.0900   2.31   4.98  0.538     15.3    1   \n",
      "1  78.9  396.90  6.421  0.02731  4.9671   7.07   9.14  0.469     17.8    2   \n",
      "2  61.1  392.83  7.185  0.02729  4.9671   7.07   4.03  0.469     17.8    2   \n",
      "3  45.8  394.63  6.998  0.03237  6.0622   2.18   2.94  0.458     18.7    3   \n",
      "4  54.2  396.90  7.147  0.06905  6.0622   2.18   5.33  0.458     18.7    3   \n",
      "\n",
      "     ZN  TAX  CHAS  Target  \n",
      "0  18.0  296     0    24.0  \n",
      "1   0.0  242     0    21.6  \n",
      "2   0.0  242     0    34.7  \n",
      "3   0.0  222     0    33.4  \n",
      "4   0.0  222     0    36.2  \n",
      "<class 'pandas.core.frame.DataFrame'>\n",
      "RangeIndex: 506 entries, 0 to 505\n",
      "Data columns (total 14 columns):\n",
      " #   Column   Non-Null Count  Dtype  \n",
      "---  ------   --------------  -----  \n",
      " 0   AGE      506 non-null    float64\n",
      " 1   B        506 non-null    float64\n",
      " 2   RM       506 non-null    float64\n",
      " 3   CRIM     506 non-null    float64\n",
      " 4   DIS      506 non-null    float64\n",
      " 5   INDUS    506 non-null    float64\n",
      " 6   LSTAT    506 non-null    float64\n",
      " 7   NOX      506 non-null    float64\n",
      " 8   PTRATIO  506 non-null    float64\n",
      " 9   RAD      506 non-null    int64  \n",
      " 10  ZN       506 non-null    float64\n",
      " 11  TAX      506 non-null    int64  \n",
      " 12  CHAS     506 non-null    int64  \n",
      " 13  Target   506 non-null    float64\n",
      "dtypes: float64(11), int64(3)\n",
      "memory usage: 55.5 KB\n",
      "None\n",
      "              AGE           B          RM        CRIM         DIS       INDUS  \\\n",
      "count  506.000000  506.000000  506.000000  506.000000  506.000000  506.000000   \n",
      "mean    68.574901  356.674032    6.284634    3.613524    3.795043   11.136779   \n",
      "std     28.148861   91.294864    0.702617    8.601545    2.105710    6.860353   \n",
      "min      2.900000    0.320000    3.561000    0.006320    1.129600    0.460000   \n",
      "25%     45.025000  375.377500    5.885500    0.082045    2.100175    5.190000   \n",
      "50%     77.500000  391.440000    6.208500    0.256510    3.207450    9.690000   \n",
      "75%     94.075000  396.225000    6.623500    3.677083    5.188425   18.100000   \n",
      "max    100.000000  396.900000    8.780000   88.976200   12.126500   27.740000   \n",
      "\n",
      "            LSTAT         NOX     PTRATIO         RAD          ZN         TAX  \\\n",
      "count  506.000000  506.000000  506.000000  506.000000  506.000000  506.000000   \n",
      "mean    12.653063    0.554695   18.455534    9.549407   11.363636  408.237154   \n",
      "std      7.141062    0.115878    2.164946    8.707259   23.322453  168.537116   \n",
      "min      1.730000    0.385000   12.600000    1.000000    0.000000  187.000000   \n",
      "25%      6.950000    0.449000   17.400000    4.000000    0.000000  279.000000   \n",
      "50%     11.360000    0.538000   19.050000    5.000000    0.000000  330.000000   \n",
      "75%     16.955000    0.624000   20.200000   24.000000   12.500000  666.000000   \n",
      "max     37.970000    0.871000   22.000000   24.000000  100.000000  711.000000   \n",
      "\n",
      "             CHAS      Target  \n",
      "count  506.000000  506.000000  \n",
      "mean     0.069170   22.532806  \n",
      "std      0.253994    9.197104  \n",
      "min      0.000000    5.000000  \n",
      "25%      0.000000   17.025000  \n",
      "50%      0.000000   21.200000  \n",
      "75%      0.000000   25.000000  \n",
      "max      1.000000   50.000000  \n"
     ]
    }
   ],
   "source": [
    "# 1. 데이터\n",
    "path= './Data/boston/'\n",
    "datasets = pd.read_csv(path + 'Boston_house.csv')\n",
    "\n",
    "print(datasets.columns)\n",
    "print(datasets.head())\n",
    "print(datasets.info())\n",
    "print(datasets.describe())"
   ]
  },
  {
   "cell_type": "code",
   "execution_count": 7,
   "id": "f2b01c3f",
   "metadata": {},
   "outputs": [
    {
     "name": "stdout",
     "output_type": "stream",
     "text": [
      "(506, 13) (506, 1)\n"
     ]
    }
   ],
   "source": [
    "x = datasets[['AGE', 'B', 'RM', 'CRIM', 'DIS', 'INDUS', 'LSTAT', 'NOX', 'PTRATIO',\n",
    "       'RAD', 'ZN', 'TAX', 'CHAS']]\n",
    "y = datasets[['Target']]\n",
    "\n",
    "print(x.shape, y.shape) # (506, 13) (506, 1)"
   ]
  },
  {
   "cell_type": "code",
   "execution_count": 9,
   "id": "9a0aefaa",
   "metadata": {},
   "outputs": [],
   "source": [
    "# train_test_split 구성하기"
   ]
  },
  {
   "cell_type": "code",
   "execution_count": 10,
   "id": "3f7b7a6d",
   "metadata": {},
   "outputs": [],
   "source": [
    "#2. 모델구성하기"
   ]
  },
  {
   "cell_type": "code",
   "execution_count": 11,
   "id": "5ec70a76",
   "metadata": {},
   "outputs": [],
   "source": [
    "#3. 컴파일, 훈련 구성하기"
   ]
  },
  {
   "cell_type": "code",
   "execution_count": null,
   "id": "e18c1b6f",
   "metadata": {},
   "outputs": [],
   "source": [
    "#4. 평가,예측하기"
   ]
  }
 ],
 "metadata": {
  "kernelspec": {
   "display_name": "Python 3",
   "language": "python",
   "name": "python3"
  },
  "language_info": {
   "codemirror_mode": {
    "name": "ipython",
    "version": 3
   },
   "file_extension": ".py",
   "mimetype": "text/x-python",
   "name": "python",
   "nbconvert_exporter": "python",
   "pygments_lexer": "ipython3",
   "version": "3.8.8"
  }
 },
 "nbformat": 4,
 "nbformat_minor": 5
}
