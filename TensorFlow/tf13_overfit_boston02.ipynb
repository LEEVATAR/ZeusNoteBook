{
 "cells": [
  {
   "cell_type": "code",
   "execution_count": 12,
   "id": "a619acb9",
   "metadata": {},
   "outputs": [],
   "source": [
    "import numpy as np\n",
    "from keras.models import Sequential\n",
    "from keras.layers import Dense\n",
    "from sklearn.datasets import load_diabetes\n",
    "from sklearn.model_selection import train_test_split\n",
    "from sklearn.metrics import r2_score"
   ]
  },
  {
   "cell_type": "code",
   "execution_count": 13,
   "id": "42f40777",
   "metadata": {},
   "outputs": [
    {
     "name": "stdout",
     "output_type": "stream",
     "text": [
      "(506, 13) (506,)\n",
      "['CRIM' 'ZN' 'INDUS' 'CHAS' 'NOX' 'RM' 'AGE' 'DIS' 'RAD' 'TAX' 'PTRATIO'\n",
      " 'B' 'LSTAT']\n",
      ".. _boston_dataset:\n",
      "\n",
      "Boston house prices dataset\n",
      "---------------------------\n",
      "\n",
      "**Data Set Characteristics:**  \n",
      "\n",
      "    :Number of Instances: 506 \n",
      "\n",
      "    :Number of Attributes: 13 numeric/categorical predictive. Median Value (attribute 14) is usually the target.\n",
      "\n",
      "    :Attribute Information (in order):\n",
      "        - CRIM     per capita crime rate by town\n",
      "        - ZN       proportion of residential land zoned for lots over 25,000 sq.ft.\n",
      "        - INDUS    proportion of non-retail business acres per town\n",
      "        - CHAS     Charles River dummy variable (= 1 if tract bounds river; 0 otherwise)\n",
      "        - NOX      nitric oxides concentration (parts per 10 million)\n",
      "        - RM       average number of rooms per dwelling\n",
      "        - AGE      proportion of owner-occupied units built prior to 1940\n",
      "        - DIS      weighted distances to five Boston employment centres\n",
      "        - RAD      index of accessibility to radial highways\n",
      "        - TAX      full-value property-tax rate per $10,000\n",
      "        - PTRATIO  pupil-teacher ratio by town\n",
      "        - B        1000(Bk - 0.63)^2 where Bk is the proportion of blacks by town\n",
      "        - LSTAT    % lower status of the population\n",
      "        - MEDV     Median value of owner-occupied homes in $1000's\n",
      "\n",
      "    :Missing Attribute Values: None\n",
      "\n",
      "    :Creator: Harrison, D. and Rubinfeld, D.L.\n",
      "\n",
      "This is a copy of UCI ML housing dataset.\n",
      "https://archive.ics.uci.edu/ml/machine-learning-databases/housing/\n",
      "\n",
      "\n",
      "This dataset was taken from the StatLib library which is maintained at Carnegie Mellon University.\n",
      "\n",
      "The Boston house-price data of Harrison, D. and Rubinfeld, D.L. 'Hedonic\n",
      "prices and the demand for clean air', J. Environ. Economics & Management,\n",
      "vol.5, 81-102, 1978.   Used in Belsley, Kuh & Welsch, 'Regression diagnostics\n",
      "...', Wiley, 1980.   N.B. Various transformations are used in the table on\n",
      "pages 244-261 of the latter.\n",
      "\n",
      "The Boston house-price data has been used in many machine learning papers that address regression\n",
      "problems.   \n",
      "     \n",
      ".. topic:: References\n",
      "\n",
      "   - Belsley, Kuh & Welsch, 'Regression diagnostics: Identifying Influential Data and Sources of Collinearity', Wiley, 1980. 244-261.\n",
      "   - Quinlan,R. (1993). Combining Instance-Based and Model-Based Learning. In Proceedings on the Tenth International Conference of Machine Learning, 236-243, University of Massachusetts, Amherst. Morgan Kaufmann.\n",
      "\n"
     ]
    }
   ],
   "source": [
    "#1. 데이터\n",
    "datasets = load_boston()\n",
    "x = datasets.data\n",
    "y = datasets.target\n",
    "\n",
    "print(x.shape, y.shape)  # (506, 13) (506,)\n",
    "print(datasets.feature_names)\n",
    "print(datasets.DESCR)"
   ]
  },
  {
   "cell_type": "code",
   "execution_count": 14,
   "id": "dc3d3802",
   "metadata": {},
   "outputs": [
    {
     "name": "stdout",
     "output_type": "stream",
     "text": [
      "(404, 13) (404,)\n",
      "(102, 13) (102,)\n"
     ]
    }
   ],
   "source": [
    "x_train, x_test, y_train, y_test = train_test_split(\n",
    "    x, y, train_size = 0.8, shuffle=True, random_state=72\n",
    ")\n",
    "print(x_train.shape, y_train.shape) # (404, 13) (404,)\n",
    "print(x_test.shape, y_test.shape)   # (102, 13) (102,)"
   ]
  },
  {
   "cell_type": "code",
   "execution_count": 15,
   "id": "16c2ff4f",
   "metadata": {},
   "outputs": [],
   "source": [
    "#2. 모델구성\n",
    "model = Sequential()\n",
    "model.add(Dense(7, input_dim=13))\n",
    "model.add(Dense(10))\n",
    "model.add(Dense(30))\n",
    "model.add(Dense(50))\n",
    "model.add(Dense(30))\n",
    "model.add(Dense(10))\n",
    "model.add(Dense(1))"
   ]
  },
  {
   "cell_type": "code",
   "execution_count": 18,
   "id": "fd5339c5",
   "metadata": {},
   "outputs": [],
   "source": [
    "#3. 컴파일, 훈련 (validation data 및 verbose)\n",
    "model.compile(loss='mse', optimizer='adam')\n",
    "hist = model.fit(x_train, y_train, validation_split=0.2, epochs=100, batch_size=10,\n",
    "         verbose=0) # verbose= 1 훈련과정 확인 / verbose = 0 훈련과정 생략"
   ]
  },
  {
   "cell_type": "code",
   "execution_count": 22,
   "id": "7b416df3",
   "metadata": {},
   "outputs": [
    {
     "name": "stdout",
     "output_type": "stream",
     "text": [
      "<tensorflow.python.keras.callbacks.History object at 0x7f6858233c10>\n",
      "{'loss': [31.01436424255371, 36.62596893310547, 33.288719177246094, 31.052419662475586, 35.61513900756836, 45.18387985229492, 36.08268737792969, 34.479087829589844, 30.86412239074707, 34.189300537109375], 'val_loss': [28.3371639251709, 31.374401092529297, 30.828020095825195, 34.876731872558594, 42.64329528808594, 39.308128356933594, 26.228355407714844, 27.593509674072266, 28.814926147460938, 28.683719635009766]}\n",
      "==================================\n",
      "[31.01436424255371, 36.62596893310547, 33.288719177246094, 31.052419662475586, 35.61513900756836, 45.18387985229492, 36.08268737792969, 34.479087829589844, 30.86412239074707, 34.189300537109375]\n",
      "[28.3371639251709, 31.374401092529297, 30.828020095825195, 34.876731872558594, 42.64329528808594, 39.308128356933594, 26.228355407714844, 27.593509674072266, 28.814926147460938, 28.683719635009766]\n"
     ]
    }
   ],
   "source": [
    "# history 확인\n",
    "print(hist)\n",
    "print(hist.history)\n",
    "print('==================================')\n",
    "print(hist.history['loss'])\n",
    "print(hist.history['val_loss'])"
   ]
  },
  {
   "cell_type": "code",
   "execution_count": 8,
   "id": "bcfd8005",
   "metadata": {},
   "outputs": [
    {
     "name": "stdout",
     "output_type": "stream",
     "text": [
      "4/4 [==============================] - 0s 7ms/step - loss: 37.6224\n",
      "loss :  37.6224365234375\n",
      "r2 :  0.5394765077148487\n"
     ]
    }
   ],
   "source": [
    "#4. 평가, 예측\n",
    "loss = model.evaluate(x_test, y_test)\n",
    "y_predict = model.predict(x_test)\n",
    "r2 = r2_score(y_test, y_predict)\n",
    "\n",
    "\n",
    "print('loss : ' , loss)\n",
    "print('r2 : ', r2)"
   ]
  },
  {
   "cell_type": "code",
   "execution_count": null,
   "id": "46ec4954",
   "metadata": {},
   "outputs": [
    {
     "name": "stderr",
     "output_type": "stream",
     "text": [
      "Duplicate key in file PosixPath('/opt/conda/lib/python3.8/site-packages/matplotlib/mpl-data/matplotlibrc'), line 758 ('font.family : NanumGothicCoding')\n"
     ]
    },
    {
     "data": {
      "image/png": "[encoded data removed]",
      "text/plain": [
       "<Figure size 648x432 with 1 Axes>"
      ]
     },
     "metadata": {
      "needs_background": "light"
     },
     "output_type": "display_data"
    }
   ],
   "source": [
    "# 시각화\n",
    "import matplotlib.pyplot as plt\n",
    "\n",
    "plt.figure(figsize=(9,6))\n",
    "plt.plot(hist.history['loss'], marker='.', c='red', label='loss')\n",
    "plt.plot(hist.history['val_loss'], marker='.', c='blue', label='val_loss')\n",
    "plt.grid()\n",
    "plt.show()"
   ]
  }
 ],
 "metadata": {
  "kernelspec": {
   "display_name": "Python 3",
   "language": "python",
   "name": "python3"
  },
  "language_info": {
   "codemirror_mode": {
    "name": "ipython",
    "version": 3
   },
   "file_extension": ".py",
   "mimetype": "text/x-python",
   "name": "python",
   "nbconvert_exporter": "python",
   "pygments_lexer": "ipython3",
   "version": "3.8.8"
  }
 },
 "nbformat": 4,
 "nbformat_minor": 5
}
