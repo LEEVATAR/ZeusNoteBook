{
 "cells": [
  {
   "cell_type": "code",
   "execution_count": 2,
   "id": "a619acb9",
   "metadata": {},
   "outputs": [],
   "source": [
    "import numpy as np\n",
    "from keras.models import Sequential\n",
    "from keras.layers import Dense\n",
    "from sklearn.datasets import load_boston\n",
    "from sklearn.model_selection import train_test_split\n",
    "from sklearn.metrics import r2_score"
   ]
  },
  {
   "cell_type": "code",
   "execution_count": 3,
   "id": "42f40777",
   "metadata": {},
   "outputs": [
    {
     "name": "stdout",
     "output_type": "stream",
     "text": [
      "(506, 13) (506,)\n"
     ]
    }
   ],
   "source": [
    "#1. 데이터\n",
    "datasets = load_boston()\n",
    "x = datasets.data\n",
    "y = datasets.target\n",
    "\n",
    "print(x.shape, y.shape)  # (506, 13) (506,)\n",
    "# print(datasets.feature_names)\n",
    "# print(datasets.DESCR)"
   ]
  },
  {
   "cell_type": "code",
   "execution_count": 4,
   "id": "dc3d3802",
   "metadata": {},
   "outputs": [
    {
     "name": "stdout",
     "output_type": "stream",
     "text": [
      "(404, 13) (404,)\n",
      "(102, 13) (102,)\n"
     ]
    }
   ],
   "source": [
    "x_train, x_test, y_train, y_test = train_test_split(\n",
    "    x, y, train_size = 0.8, shuffle=True, random_state=72\n",
    ")\n",
    "print(x_train.shape, y_train.shape) # (404, 13) (404,)\n",
    "print(x_test.shape, y_test.shape)   # (102, 13) (102,)"
   ]
  },
  {
   "cell_type": "code",
   "execution_count": 5,
   "id": "16c2ff4f",
   "metadata": {},
   "outputs": [],
   "source": [
    "#2. 모델구성\n",
    "# model = Sequential()\n",
    "# model.add(Dense(7, input_dim=13))\n",
    "# model.add(Dense(10))\n",
    "# model.add(Dense(30))\n",
    "# model.add(Dense(50))\n",
    "# model.add(Dense(30))\n",
    "# model.add(Dense(10))\n",
    "# model.add(Dense(1))"
   ]
  },
  {
   "cell_type": "code",
   "execution_count": 13,
   "id": "c0a58b2a",
   "metadata": {},
   "outputs": [],
   "source": [
    "from sklearn.svm import LinearSVC, SVC, LinearSVR\n",
    "from sklearn.linear_model import Perceptron\n",
    "from sklearn.linear_model import LogisticRegression, LinearRegression     #LogisticRegression은 분류모델, LinearRegression 회귀모델\n",
    "from sklearn.neighbors import KNeighborsClassifier, KNeighborsRegressor\n",
    "from sklearn.tree import DecisionTreeClassifier, DecisionTreeRegressor\n",
    "from sklearn.ensemble import RandomForestClassifier, RandomForestRegressor\n",
    "\n",
    "model = LinearSVR()"
   ]
  },
  {
   "cell_type": "code",
   "execution_count": 14,
   "id": "fd5339c5",
   "metadata": {},
   "outputs": [
    {
     "name": "stderr",
     "output_type": "stream",
     "text": [
      "/opt/conda/lib/python3.8/site-packages/sklearn/svm/_base.py:985: ConvergenceWarning: Liblinear failed to converge, increase the number of iterations.\n",
      "  warnings.warn(\"Liblinear failed to converge, increase \"\n"
     ]
    },
    {
     "data": {
      "text/plain": [
       "LinearSVR()"
      ]
     },
     "execution_count": 14,
     "metadata": {},
     "output_type": "execute_result"
    }
   ],
   "source": [
    "#3. 컴파일, 훈련\n",
    "# model.compile(loss='mse', optimizer='adam')\n",
    "# model.fit(x_train, y_train, epochs=200, batch_size=10)\n",
    "model.fit(x_train, y_train) "
   ]
  },
  {
   "cell_type": "code",
   "execution_count": 15,
   "id": "bcfd8005",
   "metadata": {},
   "outputs": [
    {
     "name": "stdout",
     "output_type": "stream",
     "text": [
      "결과 r2 :  -0.16858114974491256\n"
     ]
    }
   ],
   "source": [
    "#4. 평가, 예측\n",
    "# loss = model.evaluate(x_test, y_test)\n",
    "# y_predict = model.predict(x_test)\n",
    "# r2 = r2_score(y_test, y_predict)\n",
    "# print('loss : ' , loss)\n",
    "# print('r2 : ', r2)\n",
    "\n",
    "results = model.score(x_test, y_test)                                         \n",
    "print('결과 r2 : ', results)\n"
   ]
  }
 ],
 "metadata": {
  "kernelspec": {
   "display_name": "Python 3",
   "language": "python",
   "name": "python3"
  },
  "language_info": {
   "codemirror_mode": {
    "name": "ipython",
    "version": 3
   },
   "file_extension": ".py",
   "mimetype": "text/x-python",
   "name": "python",
   "nbconvert_exporter": "python",
   "pygments_lexer": "ipython3",
   "version": "3.8.8"
  }
 },
 "nbformat": 4,
 "nbformat_minor": 5
}
