{
 "cells": [
  {
   "cell_type": "code",
   "execution_count": 26,
   "id": "47da7f52",
   "metadata": {},
   "outputs": [],
   "source": [
    "import numpy as np\n",
    "import pandas as pd\n",
    "from sklearn.datasets import load_iris\n",
    "from sklearn.svm import LinearSVC\n",
    "from sklearn.model_selection import train_test_split\n",
    "from sklearn.metrics import accuracy_score\n",
    "import time"
   ]
  },
  {
   "cell_type": "code",
   "execution_count": 27,
   "id": "3f592b96",
   "metadata": {},
   "outputs": [],
   "source": [
    "import tensorflow as tf\n",
    "tf.random.set_seed(72)\n",
    "\n",
    "#1. 데이터\n",
    "datasets = load_iris()\n",
    "# print(datasets.DESCR)\n",
    "\n",
    "# x = datasets.data\n",
    "# y = datasets.target\n",
    "x = datasets['data']\n",
    "y = datasets['target']\n",
    "\n",
    "# pandas descirbe() 확인 시에는 DataFrame 변환\n",
    "# datasets = pd.DataFrame(x)\n",
    "# datasets['target'] = pd.DataFrame(y)\n",
    "# print(datasets.describe())"
   ]
  },
  {
   "cell_type": "code",
   "execution_count": 28,
   "id": "a013beef",
   "metadata": {},
   "outputs": [
    {
     "name": "stdout",
     "output_type": "stream",
     "text": [
      "(150, 4) (150,)\n",
      "(120, 4) (120,)\n",
      "(30, 4) (30,)\n"
     ]
    }
   ],
   "source": [
    "x_train, x_test, y_train, y_test = train_test_split(\n",
    "  x, y, train_size=0.8, random_state=72\n",
    ")\n",
    "\n",
    "print(x.shape, y.shape)\n",
    "print(x_train.shape, y_train.shape)\n",
    "print(x_test.shape, y_test.shape)"
   ]
  },
  {
   "cell_type": "code",
   "execution_count": 29,
   "id": "292195f7",
   "metadata": {},
   "outputs": [],
   "source": [
    "#2. 모델구성 \n",
    "from sklearn.svm import SVC\n",
    "from sklearn.linear_model import Perceptron, LogisticRegression  # LogisticRegression 분류모델\n",
    "from sklearn.neighbors import KNeighborsClassifier\n",
    "from sklearn.tree import DecisionTreeClassifier\n",
    "from sklearn.ensemble import RandomForestClassifier\n",
    "\n",
    "model = LinearSVC()\n"
   ]
  },
  {
   "cell_type": "code",
   "execution_count": 30,
   "id": "fc38efd1",
   "metadata": {},
   "outputs": [
    {
     "name": "stderr",
     "output_type": "stream",
     "text": [
      "/opt/conda/lib/python3.8/site-packages/sklearn/svm/_base.py:985: ConvergenceWarning: Liblinear failed to converge, increase the number of iterations.\n",
      "  warnings.warn(\"Liblinear failed to converge, increase \"\n"
     ]
    },
    {
     "data": {
      "text/plain": [
       "LinearSVC()"
      ]
     },
     "execution_count": 30,
     "metadata": {},
     "output_type": "execute_result"
    }
   ],
   "source": [
    "#3. 훈련 \n",
    "model.fit(x_train, y_train)"
   ]
  },
  {
   "cell_type": "code",
   "execution_count": 31,
   "id": "948475e4",
   "metadata": {},
   "outputs": [
    {
     "name": "stdout",
     "output_type": "stream",
     "text": [
      "accuracy :  0.9666666666666667\n"
     ]
    }
   ],
   "source": [
    "#4. 평가\n",
    "results = model.score(x_test, y_test)\n",
    "\n",
    "print('accuracy : ', results)"
   ]
  },
  {
   "cell_type": "code",
   "execution_count": null,
   "id": "eeaa98f8",
   "metadata": {},
   "outputs": [],
   "source": [
    "# 모델성능 평가\n",
    "# 1. LinearSVC : acc 0.9666666666666667\n",
    "# 2.\n",
    "# 3.\n",
    "# 4. \n",
    "# 5."
   ]
  }
 ],
 "metadata": {
  "kernelspec": {
   "display_name": "Python 3",
   "language": "python",
   "name": "python3"
  },
  "language_info": {
   "codemirror_mode": {
    "name": "ipython",
    "version": 3
   },
   "file_extension": ".py",
   "mimetype": "text/x-python",
   "name": "python",
   "nbconvert_exporter": "python",
   "pygments_lexer": "ipython3",
   "version": "3.8.8"
  }
 },
 "nbformat": 4,
 "nbformat_minor": 5
}
